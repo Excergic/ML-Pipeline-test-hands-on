{
 "cells": [
  {
   "cell_type": "markdown",
   "id": "cd66b44a",
   "metadata": {},
   "source": [
    "## Complete ML Pipeline"
   ]
  },
  {
   "cell_type": "markdown",
   "id": "17988c7f",
   "metadata": {},
   "source": [
    "### Building Pipeline    \n",
    "1) Create a GitHub repo and clone it in local (Add experiments).  \n",
    "2) Add src folder along with all components(run them individually).  \n",
    "3) Add data, models, reports directories to .gitignore file   \n",
    "4) Now git add, commit, push     "
   ]
  },
  {
   "cell_type": "markdown",
   "id": "a262c896",
   "metadata": {},
   "source": []
  }
 ],
 "metadata": {
  "language_info": {
   "name": "python"
  }
 },
 "nbformat": 4,
 "nbformat_minor": 5
}
